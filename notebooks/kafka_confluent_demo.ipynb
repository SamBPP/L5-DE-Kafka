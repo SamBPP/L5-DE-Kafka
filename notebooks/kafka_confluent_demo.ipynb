{
 "cells": [
  {
   "cell_type": "markdown",
   "metadata": {},
   "source": [
    "# Kafka + Confluent Cloud Demo\n",
    "\n",
    "This notebook connects to a Confluent Cloud Kafka cluster and demonstrates producing and consuming messages using `kafka-python`."
   ]
  },
  {
   "cell_type": "code",
   "execution_count": null,
   "metadata": {},
   "outputs": [],
   "source": [
    "import os\n",
    "from kafka import KafkaProducer, KafkaConsumer\n",
    "from dotenv import load_dotenv\n",
    "\n",
    "load_dotenv()\n",
    "\n",
    "bootstrap_servers = os.getenv(\"BOOTSTRAP_SERVERS\")\n",
    "sasl_username = os.getenv(\"SASL_USERNAME\")\n",
    "sasl_password = os.getenv(\"SASL_PASSWORD\")\n",
    "topic_name = os.getenv(\"TOPIC_NAME\", \"group-topic\")"
   ]
  },
  {
   "cell_type": "markdown",
   "id": "9d7e4c66",
   "metadata": {},
   "source": [
    "A producer has already been set up and exists, creating order messages in the topic. The format looks like this:\n",
    "\n",
    "```\n",
    "{\n",
    "    \"ordertime\":1488678744276, # time of order in milliseconds since epoch\n",
    "    \"orderid\":0, # order id\n",
    "    \"itemid\":\"Item_175\", # item id\n",
    "    \"orderunits\":6.634214230847341, # number of units ordered\n",
    "    \"address\":{\n",
    "        \"city\":\"City_2\", # city\n",
    "        \"state\":\"State_\", # state\n",
    "        \"zipcode\":60211 # zip code \n",
    "        } # address of the order\n",
    "}\n",
    "```"
   ]
  },
  {
   "cell_type": "markdown",
   "metadata": {},
   "source": [
    "## Send a Message to Confluent Kafka"
   ]
  },
  {
   "cell_type": "code",
   "execution_count": null,
   "metadata": {},
   "outputs": [],
   "source": [
    "producer = KafkaProducer(\n",
    "    bootstrap_servers=bootstrap_servers,\n",
    "    security_protocol=\"SASL_SSL\",\n",
    "    sasl_mechanism=\"PLAIN\",\n",
    "    sasl_plain_username=sasl_username,\n",
    "    sasl_plain_password=sasl_password\n",
    ")\n",
    "\n",
    "sample_data = {\n",
    "    \"ordertime\":1488678744276,\n",
    "    \"orderid\":0,\n",
    "    \"itemid\":\"Item_175\",\n",
    "    \"orderunits\":6.634214230847341,\n",
    "    \"address\":{\n",
    "        \"city\":\"City_2\",\n",
    "        \"state\":\"State_\",\n",
    "        \"zipcode\":60211\n",
    "        }\n",
    "}\n",
    "\n",
    "producer.send(topic_name, sample_data)\n",
    "producer.flush()\n",
    "print(\"Message sent.\")"
   ]
  },
  {
   "cell_type": "markdown",
   "metadata": {},
   "source": [
    "## Read a Message from Confluent Kafka"
   ]
  },
  {
   "cell_type": "code",
   "execution_count": null,
   "metadata": {},
   "outputs": [],
   "source": [
    "consumer = KafkaConsumer(\n",
    "    topic_name,\n",
    "    bootstrap_servers=bootstrap_servers,\n",
    "    security_protocol=\"SASL_SSL\",\n",
    "    sasl_mechanism=\"PLAIN\",\n",
    "    sasl_plain_username=sasl_username,\n",
    "    sasl_plain_password=sasl_password,\n",
    "    auto_offset_reset=\"earliest\",\n",
    "    consumer_timeout_ms=5000\n",
    ")\n",
    "\n",
    "for msg in consumer:\n",
    "    print(msg.value.decode())"
   ]
  }
 ],
 "metadata": {
  "kernelspec": {
   "display_name": "Python 3",
   "language": "python",
   "name": "python3"
  },
  "language_info": {
   "name": "python",
   "version": "3.10"
  }
 },
 "nbformat": 4,
 "nbformat_minor": 5
}
