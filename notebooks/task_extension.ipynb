{
 "cells": [
  {
   "cell_type": "markdown",
   "metadata": {},
   "source": [
    "# Extension Task: Streaming Live Data into Kafka\n",
    "\n",
    "In this task, you'll fetch data from a public API (e.g. quotes, weather, or jokes), then send it to your Kafka topic on Confluent Cloud.\n",
    "\n",
    "You will use `requests` to get data, and `kafka-python` to send it.\n",
    "\n",
    "Before starting, make sure your `.env` is set up with your Kafka credentials."
   ]
  },
  {
   "cell_type": "code",
   "execution_count": null,
   "metadata": {},
   "outputs": [],
   "source": [
    "import os\n",
    "import json\n",
    "import requests\n",
    "from kafka import KafkaProducer\n",
    "from dotenv import load_dotenv\n",
    "\n",
    "load_dotenv()\n",
    "\n",
    "producer = KafkaProducer(\n",
    "    bootstrap_servers=os.getenv(\"BOOTSTRAP_SERVERS\"),\n",
    "    security_protocol=\"SASL_SSL\",\n",
    "    sasl_mechanism=\"PLAIN\",\n",
    "    sasl_plain_username=os.getenv(\"SASL_USERNAME\"),\n",
    "    sasl_plain_password=os.getenv(\"SASL_PASSWORD\"),\n",
    "    value_serializer=lambda v: json.dumps(v).encode(\"utf-8\")\n",
    ")"
   ]
  },
  {
   "cell_type": "markdown",
   "metadata": {},
   "source": [
    "## Step 1: Get data from an external API\n",
    "Try using a free API like a quote or joke generator."
   ]
  },
  {
   "cell_type": "code",
   "execution_count": null,
   "metadata": {},
   "outputs": [],
   "source": [
    "response = requests.get(\"https://api.quotable.io/random\")\n",
    "data = response.json()\n",
    "print(data)"
   ]
  },
  {
   "cell_type": "code",
   "execution_count": null,
   "id": "119cb164",
   "metadata": {},
   "outputs": [],
   "source": [
    "# Example (pseudo):\n",
    "# import requests\n",
    "# data = requests.get(\"https://api.weatherapi.com/.../json\").json()\n",
    "# producer.send('group-topic', json.dumps(data).encode())"
   ]
  },
  {
   "cell_type": "markdown",
   "metadata": {},
   "source": [
    "## Step 2: Send this data to your Kafka topic"
   ]
  },
  {
   "cell_type": "code",
   "execution_count": null,
   "metadata": {},
   "outputs": [],
   "source": [
    "topic = os.getenv(\"TOPIC_NAME\")\n",
    "producer.send(topic, value=data)\n",
    "producer.flush()\n",
    "print(f\"Sent data to topic: {topic}\")"
   ]
  }
 ],
 "metadata": {
  "kernelspec": {
   "display_name": "Python 3",
   "language": "python",
   "name": "python3"
  },
  "language_info": {
   "name": "python",
   "version": "3.10"
  }
 },
 "nbformat": 4,
 "nbformat_minor": 5
}
